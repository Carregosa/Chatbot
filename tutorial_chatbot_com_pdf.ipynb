#importando as bibliotecas necessarios para o tutorial
!pip install pyTelegramBotAPI
!pip install llama-index
!pip install openai
!pip install pypdf

     

#Conectando-se ao bot no Telegram com a key gerado pelo telegram
import telebot

bot = telebot.TeleBot('adicione aqui o token de acesso de telegram')

@bot.message_handler( comandos=[ 'start' , 'hello' ] )
def  send_welcome ( messagem ):
   bot.reply_to(message, "Hello world, this is your bot speaking." )

@bot.message_handler( func= lambda msg: True  )
def  echo_all ( message ):
   bot.reply_to(message, message.text);

#descomente essa parte para testar se a integração funcionou corretamente
#bot.infinity_polling()
     

#adicionar api key do openIA nas variaveis de sistema
import os
os.environ["OPENAI_API_KEY"] = "adicione aqui sua api kei da open ia"
     

#Criando a função de responder com LLammaxIndex
from llama_index.core import VectorStoreIndex, SimpleDirectoryReader

documents = SimpleDirectoryReader("/adicione aqui o caminho para o diretorio com os pdfs").load_data()
index = VectorStoreIndex.from_documents(documents)
     

# permite realizar consultas nos documentos indexados
query_engine = index.as_query_engine()
     

#integrar a função criada com o LlamaIndex e a OpenAI na função de respostas
#do nosso bot do Telegram alterando a função echo_all.
bot = telebot.TeleBot('adicione aqui o token de acesso de telegram')

@bot.message_handler(commands=['start', 'hello'])
def send_welcome(message):
    bot.reply_to(message, "Hello world, this is your bot speaking.")


@bot.message_handler(func=lambda msg: True)
def echo_all(message):
    response = query_engine.query(message.text)
    bot.reply_to(message, response)

     

#executa nosso bot
bot.infinity_polling()
